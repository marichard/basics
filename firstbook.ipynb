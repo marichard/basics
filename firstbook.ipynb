{
 "cells": [
  {
   "cell_type": "markdown",
   "id": "b46e13226e9e4144",
   "metadata": {},
   "source": [
    "## Practice"
   ]
  },
  {
   "cell_type": "code",
   "execution_count": 4,
   "id": "initial_id",
   "metadata": {
    "ExecuteTime": {
     "end_time": "2025-08-12T00:18:01.561310Z",
     "start_time": "2025-08-12T00:18:01.557958Z"
    },
    "collapsed": true
   },
   "outputs": [
    {
     "name": "stdout",
     "output_type": "stream",
     "text": [
      "Chocolate\n",
      "Vanilla\n",
      "Rocky Road\n"
     ]
    }
   ],
   "source": [
    "x = 'Chocolate'\n",
    "y = 'Vanilla'\n",
    "z = 'Rocky Road'\n",
    "\n",
    "print(x)\n",
    "print(y)\n",
    "print(z)"
   ]
  },
  {
   "cell_type": "code",
   "execution_count": 5,
   "id": "4df4b2cf053a63f0",
   "metadata": {
    "ExecuteTime": {
     "end_time": "2025-08-12T00:18:21.574919Z",
     "start_time": "2025-08-12T00:18:21.568777Z"
    }
   },
   "outputs": [
    {
     "data": {
      "text/plain": [
       "str"
      ]
     },
     "execution_count": 5,
     "metadata": {},
     "output_type": "execute_result"
    }
   ],
   "source": [
    "type(x)"
   ]
  },
  {
   "cell_type": "code",
   "execution_count": 7,
   "id": "38bed5994ae456aa",
   "metadata": {
    "ExecuteTime": {
     "end_time": "2025-08-12T00:22:48.979262Z",
     "start_time": "2025-08-12T00:22:48.973852Z"
    }
   },
   "outputs": [
    {
     "data": {
      "text/plain": [
       "list"
      ]
     },
     "execution_count": 7,
     "metadata": {},
     "output_type": "execute_result"
    }
   ],
   "source": [
    "ice_cream = ['Chocolate', 'vanilla', 7]\n",
    "type(ice_cream)"
   ]
  },
  {
   "cell_type": "markdown",
   "id": "dc03c0371c5b19c4",
   "metadata": {},
   "source": [
    "### Concatenate"
   ]
  },
  {
   "cell_type": "code",
   "execution_count": 9,
   "id": "682288b3a492d29b",
   "metadata": {
    "ExecuteTime": {
     "end_time": "2025-08-12T00:25:30.448588Z",
     "start_time": "2025-08-12T00:25:30.441683Z"
    }
   },
   "outputs": [
    {
     "name": "stdout",
     "output_type": "stream",
     "text": [
      "Sup python!\n"
     ]
    }
   ],
   "source": [
    "x = 'Sup '\n",
    "y = 'python!'\n",
    "print(x + y)"
   ]
  },
  {
   "cell_type": "markdown",
   "id": "b9c47907fe23cc02",
   "metadata": {},
   "source": [
    "### Slicing Variables"
   ]
  },
  {
   "cell_type": "code",
   "execution_count": 10,
   "id": "ff5498af0f54e8ee",
   "metadata": {
    "ExecuteTime": {
     "end_time": "2025-08-12T04:19:05.713913Z",
     "start_time": "2025-08-12T04:19:05.707136Z"
    }
   },
   "outputs": [
    {
     "data": {
      "text/plain": [
       "'beautiful'"
      ]
     },
     "execution_count": 10,
     "metadata": {},
     "output_type": "execute_result"
    }
   ],
   "source": [
    "# return the word beautiful\n",
    "sentence = 'This flower is beautiful today!'\n",
    "sentence[15:24]"
   ]
  },
  {
   "cell_type": "code",
   "execution_count": 4,
   "id": "f5abf3c30ebdcf6e",
   "metadata": {
    "ExecuteTime": {
     "end_time": "2025-08-13T05:04:08.461067Z",
     "start_time": "2025-08-13T05:04:08.454369Z"
    }
   },
   "outputs": [
    {
     "data": {
      "text/plain": [
       "'flower'"
      ]
     },
     "execution_count": 4,
     "metadata": {},
     "output_type": "execute_result"
    }
   ],
   "source": [
    "# return a new word\n",
    "sentence = 'This flower is beautiful today!'\n",
    "sentence[5:11]"
   ]
  },
  {
   "cell_type": "markdown",
   "id": "971f88b88b7de0c7",
   "metadata": {},
   "source": [
    "### Math"
   ]
  },
  {
   "cell_type": "code",
   "execution_count": 1,
   "id": "992270d8e44aac1f",
   "metadata": {
    "ExecuteTime": {
     "end_time": "2025-08-14T06:03:14.524219Z",
     "start_time": "2025-08-14T06:03:14.519590Z"
    }
   },
   "outputs": [
    {
     "name": "stdout",
     "output_type": "stream",
     "text": [
      "12\n"
     ]
    }
   ],
   "source": [
    "x = 2\n",
    "y = 6\n",
    "z = 2 * 6\n",
    "print(z)"
   ]
  },
  {
   "cell_type": "markdown",
   "id": "2886c7c3ee6a91d0",
   "metadata": {},
   "source": [
    "### Operators"
   ]
  },
  {
   "cell_type": "code",
   "execution_count": 1,
   "id": "f61289fe7bfb10e2",
   "metadata": {
    "ExecuteTime": {
     "end_time": "2025-08-17T05:31:07.817831Z",
     "start_time": "2025-08-17T05:31:07.806796Z"
    }
   },
   "outputs": [
    {
     "name": "stdout",
     "output_type": "stream",
     "text": [
      "True\n",
      "False\n"
     ]
    }
   ],
   "source": [
    "x = 2 > 1\n",
    "y = 3 > 5\n",
    "print(x)\n",
    "print(y)"
   ]
  },
  {
   "cell_type": "markdown",
   "id": "7cc2618002e5d30c",
   "metadata": {},
   "source": [
    "## Company profit"
   ]
  },
  {
   "cell_type": "code",
   "execution_count": 3,
   "id": "12c997c2ff484d32",
   "metadata": {
    "ExecuteTime": {
     "end_time": "2025-08-17T18:06:23.434919Z",
     "start_time": "2025-08-17T18:06:23.428988Z"
    }
   },
   "outputs": [
    {
     "name": "stdout",
     "output_type": "stream",
     "text": [
      "750000\n"
     ]
    }
   ],
   "source": [
    "revenue = 1000000\n",
    "\n",
    "expenses = 250000\n",
    "\n",
    "profit = revenue - expenses\n",
    "\n",
    "print(profit)"
   ]
  },
  {
   "cell_type": "markdown",
   "id": "d729ca5c01f3eb9e",
   "metadata": {},
   "source": [
    "## Statements"
   ]
  },
  {
   "cell_type": "markdown",
   "id": "4255a167e9be9b83",
   "metadata": {},
   "source": [
    "## Problem 1\n",
    "Output should be \"very tall\"\n",
    "height = 75"
   ]
  },
  {
   "cell_type": "code",
   "execution_count": 1,
   "id": "3b39a680e4f16cb3",
   "metadata": {
    "ExecuteTime": {
     "end_time": "2025-08-18T20:24:25.955890Z",
     "start_time": "2025-08-18T20:24:25.947640Z"
    }
   },
   "outputs": [
    {
     "name": "stdout",
     "output_type": "stream",
     "text": [
      "Very Tall\n"
     ]
    }
   ],
   "source": [
    "height = 75\n",
    "\n",
    "if height > 70:\n",
    "  print('Very Tall')\n",
    "elif height > 60:\n",
    "   print('Tall')\n",
    "else:\n",
    "   print('Not Tall')"
   ]
  },
  {
   "cell_type": "markdown",
   "id": "4994476304eca9a7",
   "metadata": {},
   "source": [
    "### Problem 2\n",
    "You're given a list of test scores and your job is to label them \"Good Grade\" or \"Bad Grade\".\n",
    "\n",
    "Here is your list:\n",
    "\n",
    "scores = [85, 90, 78, 92, 88, 75, 98, 60, 82, 95]\n",
    "If the score is 75 or over it is a \"Good Grade\" and in the output it should include the score and label next to it like this \"85 Good Grade.\n",
    "\n",
    "Use a For Loop to loop through all of the scores, check them, and give the output."
   ]
  },
  {
   "cell_type": "code",
   "execution_count": 3,
   "id": "e30ab6394145d3e0",
   "metadata": {
    "ExecuteTime": {
     "end_time": "2025-08-18T20:36:09.335528Z",
     "start_time": "2025-08-18T20:36:09.330979Z"
    }
   },
   "outputs": [
    {
     "name": "stdout",
     "output_type": "stream",
     "text": [
      "85 Good Grade\n",
      "90 Good Grade\n",
      "78 Good Grade\n",
      "92 Good Grade\n",
      "88 Good Grade\n",
      "75 Good Grade\n",
      "98 Good Grade\n",
      "60 Bad Grade\n",
      "82 Good Grade\n",
      "95 Good Grade\n"
     ]
    }
   ],
   "source": [
    "scores = [85, 90, 78, 92, 88, 75, 98, 60, 82, 95]\n",
    "\n",
    "for score in scores:\n",
    "    if score >= 75:\n",
    "        print(score, \"Good Grade\")\n",
    "    else:\n",
    "        print(score, \"Bad Grade\")"
   ]
  },
  {
   "cell_type": "markdown",
   "id": "b400d719f5c77f84",
   "metadata": {
    "ExecuteTime": {
     "end_time": "2025-08-18T21:30:32.536482Z",
     "start_time": "2025-08-18T21:30:32.529716Z"
    }
   },
   "source": [
    "### Problem 3\n",
    "Let's practice using While Loops!\n",
    "\n",
    "Here we have a list of peak temperatures that occurred each day:\n",
    "\n",
    "temp_per_day = [70,72,71,76,75,83,85,82,88,79,89,91,87,85,87,80]\n",
    "Use a For Loop and a While Loop to loop through the list of temperatures. When the temperature hits 90 degrees or above print out that temperature."
   ]
  },
  {
   "cell_type": "code",
   "execution_count": 4,
   "id": "8ba941302dfab146",
   "metadata": {
    "ExecuteTime": {
     "end_time": "2025-08-18T21:37:42.699859Z",
     "start_time": "2025-08-18T21:37:42.696111Z"
    }
   },
   "outputs": [
    {
     "name": "stdout",
     "output_type": "stream",
     "text": [
      "91\n"
     ]
    }
   ],
   "source": [
    "temp_per_day = [70,72,71,76,75,83,85,82,88,79,89,91,87,85,87,80]\n",
    "\n",
    "for temp in temp_per_day:\n",
    "    while temp >= 90:\n",
    "        print(temp)\n",
    "        break"
   ]
  },
  {
   "cell_type": "markdown",
   "id": "e9b2498030400ca",
   "metadata": {},
   "source": [
    "### Problem 4\n",
    "Create a number checker that sees if a number is divisible by 2. If it is we can add it our list.\n",
    "\n",
    "Here is your starting list:\n",
    "\n",
    "numbers = [2, 4, 6, 8, 10, 11, 13, 15]\n",
    "After you're done print out your list as your answer."
   ]
  },
  {
   "cell_type": "code",
   "execution_count": 18,
   "id": "beacd9da7661c173",
   "metadata": {
    "ExecuteTime": {
     "end_time": "2025-08-18T22:37:25.073592Z",
     "start_time": "2025-08-18T22:37:25.068614Z"
    }
   },
   "outputs": [
    {
     "name": "stdout",
     "output_type": "stream",
     "text": [
      "[2, 4, 6, 8, 10]\n"
     ]
    }
   ],
   "source": [
    "numbers = [2, 4, 6, 8, 10, 11, 13, 15]\n",
    "\n",
    "evenNumbers = [number for number in numbers if number % 2 == 0]\n",
    "\n",
    "print(evenNumbers)"
   ]
  },
  {
   "cell_type": "markdown",
   "id": "d806aac08718e8c5",
   "metadata": {},
   "source": [
    "## Functions & Arguments"
   ]
  },
  {
   "cell_type": "code",
   "execution_count": 7,
   "id": "1046444971195b04",
   "metadata": {
    "ExecuteTime": {
     "end_time": "2025-09-01T20:29:02.633895Z",
     "start_time": "2025-09-01T20:29:02.628281Z"
    }
   },
   "outputs": [],
   "source": [
    "# functions and passing arguments\n",
    "def firstfunction():\n",
    "    print(\"Created my first function.\")"
   ]
  },
  {
   "cell_type": "code",
   "execution_count": 8,
   "id": "71e624bff46f0cda",
   "metadata": {
    "ExecuteTime": {
     "end_time": "2025-09-01T20:29:04.565616Z",
     "start_time": "2025-09-01T20:29:04.562226Z"
    }
   },
   "outputs": [
    {
     "name": "stdout",
     "output_type": "stream",
     "text": [
      "Created my first function.\n"
     ]
    }
   ],
   "source": [
    "firstfunction()"
   ]
  },
  {
   "cell_type": "code",
   "execution_count": 11,
   "id": "458ec0bff02509e9",
   "metadata": {
    "ExecuteTime": {
     "end_time": "2025-09-01T20:29:27.090696Z",
     "start_time": "2025-09-01T20:29:27.084954Z"
    }
   },
   "outputs": [],
   "source": [
    "# passing an argument\n",
    "def second_function(name):\n",
    "    print(name, 'another one!')"
   ]
  },
  {
   "cell_type": "code",
   "execution_count": 12,
   "id": "b596c0566c88eccb",
   "metadata": {
    "ExecuteTime": {
     "end_time": "2025-09-01T20:29:28.615864Z",
     "start_time": "2025-09-01T20:29:28.610084Z"
    }
   },
   "outputs": [
    {
     "name": "stdout",
     "output_type": "stream",
     "text": [
      "Jim Jones, another one!\n"
     ]
    }
   ],
   "source": [
    "second_function(\"Jim Jones,\")\n"
   ]
  },
  {
   "cell_type": "code",
   "execution_count": 15,
   "id": "7b48b7015bd37fe0",
   "metadata": {
    "ExecuteTime": {
     "end_time": "2025-09-01T20:37:25.756847Z",
     "start_time": "2025-09-01T20:37:25.746168Z"
    }
   },
   "outputs": [
    {
     "data": {
      "text/plain": [
       "50"
      ]
     },
     "execution_count": 15,
     "metadata": {},
     "output_type": "execute_result"
    }
   ],
   "source": [
    "# create a function that calculates profit given 2 parameters\n",
    "def calculate_profit(price,cost):\n",
    "    return price - cost\n",
    "\n",
    "\n",
    "price = 150\n",
    "cost = 100\n",
    "calculate_profit(price,cost)"
   ]
  },
  {
   "cell_type": "markdown",
   "id": "3d96aebb88f13de5",
   "metadata": {},
   "source": [
    "# Arguments"
   ]
  },
  {
   "cell_type": "code",
   "execution_count": 20,
   "id": "818d6ee0dd901461",
   "metadata": {
    "ExecuteTime": {
     "end_time": "2025-09-01T21:30:36.162336Z",
     "start_time": "2025-09-01T21:30:36.155060Z"
    }
   },
   "outputs": [
    {
     "name": "stdout",
     "output_type": "stream",
     "text": [
      "50\n"
     ]
    }
   ],
   "source": [
    "# Create a Function that takes all of the values being passed through, adds them together, and then prints the output. There could be any number of values passed in so use an arbitrary argument to be flexible.\n",
    "\n",
    "def calculate_sum(*args):\n",
    "    totalSum = 0\n",
    "\n",
    "    for number in args:\n",
    "        totalSum += number\n",
    "    print(totalSum)\n",
    "\n",
    "calculate_sum(5,10,15,20)"
   ]
  },
  {
   "cell_type": "markdown",
   "id": "8ca7be1a",
   "metadata": {},
   "source": [
    "# Switch from PyCharm to VSCode\n",
    "testing"
   ]
  },
  {
   "cell_type": "code",
   "execution_count": 4,
   "id": "a5000779",
   "metadata": {},
   "outputs": [
    {
     "name": "stdout",
     "output_type": "stream",
     "text": [
      "Hello, Jimmy Bob!\n"
     ]
    }
   ],
   "source": [
    "name = input(\"What is your name? \")\n",
    "\n",
    "print(f'Hello, {name}!')"
   ]
  }
 ],
 "metadata": {
  "kernelspec": {
   "display_name": "base",
   "language": "python",
   "name": "python3"
  },
  "language_info": {
   "codemirror_mode": {
    "name": "ipython",
    "version": 3
   },
   "file_extension": ".py",
   "mimetype": "text/x-python",
   "name": "python",
   "nbconvert_exporter": "python",
   "pygments_lexer": "ipython3",
   "version": "3.13.5"
  }
 },
 "nbformat": 4,
 "nbformat_minor": 5
}

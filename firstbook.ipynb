{
 "cells": [
  {
   "metadata": {},
   "cell_type": "markdown",
   "source": "## Practice",
   "id": "b46e13226e9e4144"
  },
  {
   "cell_type": "code",
   "id": "initial_id",
   "metadata": {
    "collapsed": true,
    "ExecuteTime": {
     "end_time": "2025-08-12T00:18:01.561310Z",
     "start_time": "2025-08-12T00:18:01.557958Z"
    }
   },
   "source": [
    "x = 'Chocolate'\n",
    "y = 'Vanilla'\n",
    "z = 'Rocky Road'\n",
    "\n",
    "print(x)\n",
    "print(y)\n",
    "print(z)"
   ],
   "outputs": [
    {
     "name": "stdout",
     "output_type": "stream",
     "text": [
      "Chocolate\n",
      "Vanilla\n",
      "Rocky Road\n"
     ]
    }
   ],
   "execution_count": 4
  },
  {
   "metadata": {
    "ExecuteTime": {
     "end_time": "2025-08-12T00:18:21.574919Z",
     "start_time": "2025-08-12T00:18:21.568777Z"
    }
   },
   "cell_type": "code",
   "source": "type(x)",
   "id": "4df4b2cf053a63f0",
   "outputs": [
    {
     "data": {
      "text/plain": [
       "str"
      ]
     },
     "execution_count": 5,
     "metadata": {},
     "output_type": "execute_result"
    }
   ],
   "execution_count": 5
  },
  {
   "metadata": {
    "ExecuteTime": {
     "end_time": "2025-08-12T00:22:48.979262Z",
     "start_time": "2025-08-12T00:22:48.973852Z"
    }
   },
   "cell_type": "code",
   "source": [
    "ice_cream = ['Chocolate', 'vanilla', 7]\n",
    "type(ice_cream)"
   ],
   "id": "38bed5994ae456aa",
   "outputs": [
    {
     "data": {
      "text/plain": [
       "list"
      ]
     },
     "execution_count": 7,
     "metadata": {},
     "output_type": "execute_result"
    }
   ],
   "execution_count": 7
  },
  {
   "metadata": {},
   "cell_type": "markdown",
   "source": "### Concatenate",
   "id": "dc03c0371c5b19c4"
  },
  {
   "metadata": {
    "ExecuteTime": {
     "end_time": "2025-08-12T00:25:30.448588Z",
     "start_time": "2025-08-12T00:25:30.441683Z"
    }
   },
   "cell_type": "code",
   "source": [
    "x = 'Sup '\n",
    "y = 'python!'\n",
    "print(x + y)"
   ],
   "id": "682288b3a492d29b",
   "outputs": [
    {
     "name": "stdout",
     "output_type": "stream",
     "text": [
      "Sup python!\n"
     ]
    }
   ],
   "execution_count": 9
  }
 ],
 "metadata": {
  "kernelspec": {
   "display_name": "Python 3",
   "language": "python",
   "name": "python3"
  },
  "language_info": {
   "codemirror_mode": {
    "name": "ipython",
    "version": 2
   },
   "file_extension": ".py",
   "mimetype": "text/x-python",
   "name": "python",
   "nbconvert_exporter": "python",
   "pygments_lexer": "ipython2",
   "version": "2.7.6"
  }
 },
 "nbformat": 4,
 "nbformat_minor": 5
}

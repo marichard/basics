{
 "cells": [
  {
   "metadata": {},
   "cell_type": "markdown",
   "source": "## Practice",
   "id": "b46e13226e9e4144"
  },
  {
   "cell_type": "code",
   "id": "initial_id",
   "metadata": {
    "collapsed": true,
    "ExecuteTime": {
     "end_time": "2025-08-12T00:18:01.561310Z",
     "start_time": "2025-08-12T00:18:01.557958Z"
    }
   },
   "source": [
    "x = 'Chocolate'\n",
    "y = 'Vanilla'\n",
    "z = 'Rocky Road'\n",
    "\n",
    "print(x)\n",
    "print(y)\n",
    "print(z)"
   ],
   "outputs": [
    {
     "name": "stdout",
     "output_type": "stream",
     "text": [
      "Chocolate\n",
      "Vanilla\n",
      "Rocky Road\n"
     ]
    }
   ],
   "execution_count": 4
  },
  {
   "metadata": {
    "ExecuteTime": {
     "end_time": "2025-08-12T00:18:21.574919Z",
     "start_time": "2025-08-12T00:18:21.568777Z"
    }
   },
   "cell_type": "code",
   "source": "type(x)",
   "id": "4df4b2cf053a63f0",
   "outputs": [
    {
     "data": {
      "text/plain": [
       "str"
      ]
     },
     "execution_count": 5,
     "metadata": {},
     "output_type": "execute_result"
    }
   ],
   "execution_count": 5
  },
  {
   "metadata": {
    "ExecuteTime": {
     "end_time": "2025-08-12T00:22:48.979262Z",
     "start_time": "2025-08-12T00:22:48.973852Z"
    }
   },
   "cell_type": "code",
   "source": [
    "ice_cream = ['Chocolate', 'vanilla', 7]\n",
    "type(ice_cream)"
   ],
   "id": "38bed5994ae456aa",
   "outputs": [
    {
     "data": {
      "text/plain": [
       "list"
      ]
     },
     "execution_count": 7,
     "metadata": {},
     "output_type": "execute_result"
    }
   ],
   "execution_count": 7
  },
  {
   "metadata": {},
   "cell_type": "markdown",
   "source": "### Concatenate",
   "id": "dc03c0371c5b19c4"
  },
  {
   "metadata": {
    "ExecuteTime": {
     "end_time": "2025-08-12T00:25:30.448588Z",
     "start_time": "2025-08-12T00:25:30.441683Z"
    }
   },
   "cell_type": "code",
   "source": [
    "x = 'Sup '\n",
    "y = 'python!'\n",
    "print(x + y)"
   ],
   "id": "682288b3a492d29b",
   "outputs": [
    {
     "name": "stdout",
     "output_type": "stream",
     "text": [
      "Sup python!\n"
     ]
    }
   ],
   "execution_count": 9
  },
  {
   "metadata": {},
   "cell_type": "markdown",
   "source": "### Slicing Variables",
   "id": "b9c47907fe23cc02"
  },
  {
   "metadata": {
    "ExecuteTime": {
     "end_time": "2025-08-12T04:19:05.713913Z",
     "start_time": "2025-08-12T04:19:05.707136Z"
    }
   },
   "cell_type": "code",
   "source": [
    "# return the word beautiful\n",
    "sentence = 'This flower is beautiful today!'\n",
    "sentence[15:24]"
   ],
   "id": "ff5498af0f54e8ee",
   "outputs": [
    {
     "data": {
      "text/plain": [
       "'beautiful'"
      ]
     },
     "execution_count": 10,
     "metadata": {},
     "output_type": "execute_result"
    }
   ],
   "execution_count": 10
  },
  {
   "metadata": {
    "ExecuteTime": {
     "end_time": "2025-08-13T05:04:08.461067Z",
     "start_time": "2025-08-13T05:04:08.454369Z"
    }
   },
   "cell_type": "code",
   "source": [
    "# return a new word\n",
    "sentence = 'This flower is beautiful today!'\n",
    "sentence[5:11]"
   ],
   "id": "f5abf3c30ebdcf6e",
   "outputs": [
    {
     "data": {
      "text/plain": [
       "'flower'"
      ]
     },
     "execution_count": 4,
     "metadata": {},
     "output_type": "execute_result"
    }
   ],
   "execution_count": 4
  },
  {
   "metadata": {},
   "cell_type": "markdown",
   "source": "### Math",
   "id": "971f88b88b7de0c7"
  },
  {
   "metadata": {
    "ExecuteTime": {
     "end_time": "2025-08-14T06:03:14.524219Z",
     "start_time": "2025-08-14T06:03:14.519590Z"
    }
   },
   "cell_type": "code",
   "source": [
    "x = 2\n",
    "y = 6\n",
    "z = 2 * 6\n",
    "print(z)"
   ],
   "id": "992270d8e44aac1f",
   "outputs": [
    {
     "name": "stdout",
     "output_type": "stream",
     "text": [
      "12\n"
     ]
    }
   ],
   "execution_count": 1
  },
  {
   "metadata": {},
   "cell_type": "markdown",
   "source": "### Operators",
   "id": "2886c7c3ee6a91d0"
  },
  {
   "metadata": {
    "ExecuteTime": {
     "end_time": "2025-08-17T05:31:07.817831Z",
     "start_time": "2025-08-17T05:31:07.806796Z"
    }
   },
   "cell_type": "code",
   "source": [
    "x = 2 > 1\n",
    "y = 3 > 5\n",
    "print(x)\n",
    "print(y)"
   ],
   "id": "f61289fe7bfb10e2",
   "outputs": [
    {
     "name": "stdout",
     "output_type": "stream",
     "text": [
      "True\n",
      "False\n"
     ]
    }
   ],
   "execution_count": 1
  },
  {
   "metadata": {},
   "cell_type": "markdown",
   "source": "## Company profit",
   "id": "7cc2618002e5d30c"
  },
  {
   "metadata": {
    "ExecuteTime": {
     "end_time": "2025-08-17T18:06:23.434919Z",
     "start_time": "2025-08-17T18:06:23.428988Z"
    }
   },
   "cell_type": "code",
   "source": [
    "revenue = 1000000\n",
    "\n",
    "expenses = 250000\n",
    "\n",
    "profit = revenue - expenses\n",
    "\n",
    "print(profit)"
   ],
   "id": "12c997c2ff484d32",
   "outputs": [
    {
     "name": "stdout",
     "output_type": "stream",
     "text": [
      "750000\n"
     ]
    }
   ],
   "execution_count": 3
  },
  {
   "metadata": {},
   "cell_type": "markdown",
   "source": "## Statements",
   "id": "d729ca5c01f3eb9e"
  },
  {
   "metadata": {},
   "cell_type": "markdown",
   "source": [
    "## Problem 1\n",
    "Output should be \"very tall\"\n",
    "height = 75"
   ],
   "id": "4255a167e9be9b83"
  },
  {
   "metadata": {
    "ExecuteTime": {
     "end_time": "2025-08-18T20:24:25.955890Z",
     "start_time": "2025-08-18T20:24:25.947640Z"
    }
   },
   "cell_type": "code",
   "source": [
    "height = 75\n",
    "\n",
    "if height > 70:\n",
    "  print('Very Tall')\n",
    "elif height > 60:\n",
    "   print('Tall')\n",
    "else:\n",
    "   print('Not Tall')"
   ],
   "id": "3b39a680e4f16cb3",
   "outputs": [
    {
     "name": "stdout",
     "output_type": "stream",
     "text": [
      "Very Tall\n"
     ]
    }
   ],
   "execution_count": 1
  },
  {
   "metadata": {},
   "cell_type": "markdown",
   "source": [
    "### Problem 2\n",
    "You're given a list of test scores and your job is to label them \"Good Grade\" or \"Bad Grade\".\n",
    "\n",
    "Here is your list:\n",
    "\n",
    "scores = [85, 90, 78, 92, 88, 75, 98, 60, 82, 95]\n",
    "If the score is 75 or over it is a \"Good Grade\" and in the output it should include the score and label next to it like this \"85 Good Grade.\n",
    "\n",
    "Use a For Loop to loop through all of the scores, check them, and give the output."
   ],
   "id": "4994476304eca9a7"
  },
  {
   "metadata": {
    "ExecuteTime": {
     "end_time": "2025-08-18T20:36:09.335528Z",
     "start_time": "2025-08-18T20:36:09.330979Z"
    }
   },
   "cell_type": "code",
   "source": [
    "scores = [85, 90, 78, 92, 88, 75, 98, 60, 82, 95]\n",
    "\n",
    "for score in scores:\n",
    "    if score >= 75:\n",
    "        print(score, \"Good Grade\")\n",
    "    else:\n",
    "        print(score, \"Bad Grade\")"
   ],
   "id": "e30ab6394145d3e0",
   "outputs": [
    {
     "name": "stdout",
     "output_type": "stream",
     "text": [
      "85 Good Grade\n",
      "90 Good Grade\n",
      "78 Good Grade\n",
      "92 Good Grade\n",
      "88 Good Grade\n",
      "75 Good Grade\n",
      "98 Good Grade\n",
      "60 Bad Grade\n",
      "82 Good Grade\n",
      "95 Good Grade\n"
     ]
    }
   ],
   "execution_count": 3
  },
  {
   "metadata": {},
   "cell_type": "code",
   "outputs": [],
   "execution_count": null,
   "source": "",
   "id": "2304ae1fcc5ae4b2"
  }
 ],
 "metadata": {
  "kernelspec": {
   "display_name": "Python 3",
   "language": "python",
   "name": "python3"
  },
  "language_info": {
   "codemirror_mode": {
    "name": "ipython",
    "version": 2
   },
   "file_extension": ".py",
   "mimetype": "text/x-python",
   "name": "python",
   "nbconvert_exporter": "python",
   "pygments_lexer": "ipython2",
   "version": "2.7.6"
  }
 },
 "nbformat": 4,
 "nbformat_minor": 5
}
